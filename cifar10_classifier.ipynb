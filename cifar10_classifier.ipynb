{
 "cells": [
  {
   "cell_type": "markdown",
   "metadata": {
    "id": "loqJZNhG3Yxd"
   },
   "source": [
    "# *Cifar10* Photo Classification#\n",
    "\n",
    "This project is to build a nerual network to successfully classify *cifar10* photos into their correspond classes.\n",
    "\n",
    "### What is *cifar10*?###\n",
    "*cifar10* is a database of `32` * `32` pixels photos each pixel consist of `3` values of brightness(red, green, and blue). Each photo is an object from a class of `airplane`, `automobile`, `bird`, `cat`, `deer`, `dog`, `frog`, `horse`, `ship`, and `truck`. Each class has exactly `1000` photos with a total of 10000 in the database\n",
    "\n",
    "### What is the goal?###\n",
    "The goal is to build a nerual network to classify each input photo into its object class as accurate as possible."
   ]
  },
  {
   "cell_type": "markdown",
   "metadata": {
    "id": "Uyh5-C4wkQ83"
   },
   "source": [
    "## Step 0: Library##\n",
    "\n",
    "- Keras from TensorFlow"
   ]
  },
  {
   "cell_type": "code",
   "execution_count": 1,
   "metadata": {
    "executionInfo": {
     "elapsed": 3368,
     "status": "ok",
     "timestamp": 1608249120714,
     "user": {
      "displayName": "La fda",
      "photoUrl": "",
      "userId": "01629274643246055858"
     },
     "user_tz": 480
    },
    "id": "JLC44GpfyW5p"
   },
   "outputs": [
    {
     "name": "stderr",
     "output_type": "stream",
     "text": [
      "C:\\Users\\Yulun\\anaconda3\\lib\\site-packages\\numpy\\_distributor_init.py:30: UserWarning: loaded more than 1 DLL from .libs:\n",
      "C:\\Users\\Yulun\\anaconda3\\lib\\site-packages\\numpy\\.libs\\libopenblas.NOIJJG62EMASZI6NYURL6JBKM4EVBGM7.gfortran-win_amd64.dll\n",
      "C:\\Users\\Yulun\\anaconda3\\lib\\site-packages\\numpy\\.libs\\libopenblas.QVLO2T66WEPI7JZ63PS3HMOHFEY472BC.gfortran-win_amd64.dll\n",
      "  warnings.warn(\"loaded more than 1 DLL from .libs:\\n%s\" %\n"
     ]
    }
   ],
   "source": [
    "import numpy as np\n",
    "from tensorflow import keras\n",
    "import pandas as pd\n",
    "\n",
    "from keras.utils import to_categorical\n",
    "from tensorflow.keras.models import Sequential, load_model\n",
    "from tensorflow.keras.layers import Conv2D, MaxPooling2D, BatchNormalization\n",
    "from tensorflow.keras.layers import Dense, Dropout, Activation, Flatten\n",
    "from tensorflow.keras.optimizers import Adam\n",
    "import matplotlib.pyplot as plt\n",
    "from sklearn.metrics import classification_report, confusion_matrix\n",
    "from tensorflow.keras.preprocessing.image import ImageDataGenerator"
   ]
  },
  {
   "cell_type": "markdown",
   "metadata": {
    "id": "8A1S_ZO25FYm"
   },
   "source": [
    "## Step 1: Read in the data##\n",
    "The *cifar10* files are divided into five batchs of training and one batch of test for us to evaluate the performance of the model. Each of the batchs is pickled into packages so I have to unpickle them one by one in order for keras to read them."
   ]
  },
  {
   "cell_type": "code",
   "execution_count": 2,
   "metadata": {
    "executionInfo": {
     "elapsed": 2969,
     "status": "ok",
     "timestamp": 1608249121795,
     "user": {
      "displayName": "La fda",
      "photoUrl": "",
      "userId": "01629274643246055858"
     },
     "user_tz": 480
    },
    "id": "ObnsHMCAy1qG"
   },
   "outputs": [],
   "source": [
    "def unpickle(file):\n",
    "    \"\"\"To unpickle the cifar10 file into readable np arrays\"\"\"\n",
    "    import pickle\n",
    "    with open(file, 'rb') as fo:\n",
    "        dictionary = pickle.load(fo, encoding='latin1')\n",
    "    return dictionary\n",
    "\n",
    "# Set cifar10 files directory\n",
    "cifar10_dir = 'C:/Users/Yulun/Documents/Projects/cifar-10-batches-py/cifar10_batches'\n",
    "\n",
    "# Unpickle cifar10 files\n",
    "metaDict = unpickle('C:/Users/Yulun/Documents/Projects/cifar-10-batches-py/cifar10_batches/batches.meta')\n",
    "\n",
    "# Get the classes names\n",
    "label_names = metaDict['label_names']"
   ]
  },
  {
   "cell_type": "markdown",
   "metadata": {
    "id": "t_Wm_fz-5bun"
   },
   "source": [
    "## Step 2: Data Split ##\n",
    "\n",
    "This learning model follows a train, validate, test process, so I have to manuelly split the sets. Gather all data and decide the training set, validation set, and the test set. For labels of the input data, I have to manually seperate them from original data arrays in order for latter varification\n",
    "\n",
    "There two additional things done to original data in order to improve the final performance of the model. \n",
    "1. For each values of brightness in the photo, I use a min-max scaler to increase the difference of brighness for different pixels.\n",
    "2. Merge all training data into one set to generate a gradually increasing for accuracy. This helps to decide if the model is underfit or overfit.(for epochs size selecting use)\n"
   ]
  },
  {
   "cell_type": "code",
   "execution_count": 3,
   "metadata": {
    "executionInfo": {
     "elapsed": 16771,
     "status": "ok",
     "timestamp": 1608249138271,
     "user": {
      "displayName": "La fda",
      "photoUrl": "",
      "userId": "01629274643246055858"
     },
     "user_tz": 480
    },
    "id": "2BlYMWaYz52G"
   },
   "outputs": [],
   "source": [
    "def load_cfar10_batch(cifar10_dataset_folder_path, batch_id):\n",
    "    \"\"\"\n",
    "    Unpickle each batch of cifar10 files and return the features(32, 32, 3) and their labels\n",
    "    \"\"\"\n",
    "    import pickle\n",
    "    with open(cifar10_dataset_folder_path + '/data_batch_' + str(batch_id), mode='rb') as file:\n",
    "        # note the encoding type is 'latin1'\n",
    "        batch = pickle.load(file, encoding='latin1')\n",
    "        \n",
    "\t# As stated in the CIFAR-10/CIFAR-100 dataset, the row vector, (3072) represents an color image of 32x32 pixels.\n",
    "\t# In order to feed an image data into a CNN model, \n",
    "\t# the dimension of the input tensor should be either (width x height x num_channel) or (num_channel x width x height).\n",
    "\t# I am going to use the first choice because the default choice in tensorflow’s CNN operation is so.\n",
    "    features = batch['data'].reshape(len(batch['data']), 3, 32, 32).transpose(0, 2, 3, 1)\n",
    "    labels = batch['labels']\n",
    "    return (features, labels)\n",
    " \n",
    "def normalize(x):\n",
    "    \"\"\"\n",
    "    Normalize the x's using max/min distance\n",
    "    min in x's as a 0\n",
    "    max in x's as a (max - min)\n",
    "    \"\"\"\n",
    "    min_val = np.min(x)\n",
    "    max_val = np.max(x)\n",
    "    x = (x-min_val) / (max_val-min_val)\n",
    "    return x\n",
    "\n",
    "\n",
    "# Load the x(features) and y(labels) for each batch\n",
    "(x_training1, y_training1) = load_cfar10_batch(cifar10_dir, 1)\n",
    "(x_training2, y_training2) = load_cfar10_batch(cifar10_dir, 2)\n",
    "(x_training3, y_training3) = load_cfar10_batch(cifar10_dir, 3)\n",
    "(x_training4, y_training4) = load_cfar10_batch(cifar10_dir, 4)\n",
    "\n",
    "# Concatenate batch 1-4 as training set\n",
    "x_training = np.concatenate([x_training1, x_training2, x_training3, x_training4])\n",
    "y_training = np.concatenate([y_training1, y_training2, y_training3, y_training4])\n",
    "\n",
    "# Using batch 5 as validation set(could be other batch, but should\n",
    "# be 1/4 to 1/3 of the traing set size)\n",
    "x_validate, y_validate = load_cfar10_batch(cifar10_dir, 5)\n",
    "\n",
    "# Unpickle test batch since it is an individual batch\n",
    "testDict = unpickle('C:/Users/Yulun/Documents/Projects/cifar-10-batches-py/cifar10_batches/test_batch')\n",
    "x_test = testDict['data'].reshape(len(testDict['data']), 3, 32, 32).transpose(0, 2, 3, 1)\n",
    "y_test = testDict['labels']\t\n",
    "\n",
    "# Normalize and one-hot encoding for training, validation, and test\n",
    "x_training = normalize(x_training)\n",
    "y_training = to_categorical(y_training)\n",
    "x_validate = normalize(x_validate)\n",
    "y_validate = to_categorical(y_validate)\n",
    "x_test = normalize(x_test)\n",
    "y_test = to_categorical(y_test)"
   ]
  },
  {
   "cell_type": "markdown",
   "metadata": {
    "id": "Sa66-oBn7z1X"
   },
   "source": [
    "## Step 3: Build Nerual Network##\n",
    "\n",
    "#### Technique used:####\n",
    "1. VGG blockes - Baseline model\n",
    "\n",
    "\n",
    "> Each VGG block contains one or more concolutional layers and a pooling layer after that. With four VGG blocks in this case, max the marginal benefits of adding a VGG block. In other words, adding a 5th VGG block slows down the training process but do not significantly increase the model performance. Use this structure as the baseline model for this project.\n",
    "\n",
    "\n",
    "2. BatchNormalization\n",
    "\n",
    "> The BatchNormalization after a convolutional layer standardlized the values of each filtered image by making sure the mean of each sample is `0`. Adding this BatchNormalization layer both speed up the training and increase generality of the model.\n",
    "\n",
    "\n",
    "3. Max pooling\n",
    "\n",
    "> The max pooling layer after BatchNormalization layer shrink the original image by an area of `1/4`(in other words, `1/2` for width and height). This max pooling layer makes sure only important features are passed on to next layer and also decrease the image size, which helps while flatten the image at last.\n",
    "\n",
    "\n",
    "3. Dropout with increasing rate\n",
    "\n",
    "> Dropout layers randomly drop some nodes by given proportion. In this CNN model, the dropout rates are increasing as the model reaches to the end(`0.1` -> `0.2` -> `0.3` -> `0.4` -> `0.5`). The major reason of doing this is generalization. As nodes are passing to the end, more and more nodes will be dropped, which forces the model to make decisions using less and less inputs and put more attention at the begining or the model.\n",
    "\n"
   ]
  },
  {
   "cell_type": "code",
   "execution_count": 5,
   "metadata": {
    "colab": {
     "base_uri": "https://localhost:8080/"
    },
    "executionInfo": {
     "elapsed": 578,
     "status": "ok",
     "timestamp": 1608245340841,
     "user": {
      "displayName": "La fda",
      "photoUrl": "",
      "userId": "01629274643246055858"
     },
     "user_tz": 480
    },
    "id": "kEU1LHK73WaO",
    "outputId": "d79d650e-29b4-41b7-8a13-8b7125836000"
   },
   "outputs": [
    {
     "name": "stdout",
     "output_type": "stream",
     "text": [
      "Model: \"sequential\"\n",
      "_________________________________________________________________\n",
      "Layer (type)                 Output Shape              Param #   \n",
      "=================================================================\n",
      "conv2d (Conv2D)              (None, 32, 32, 16)        448       \n",
      "_________________________________________________________________\n",
      "batch_normalization (BatchNo (None, 32, 32, 16)        64        \n",
      "_________________________________________________________________\n",
      "conv2d_1 (Conv2D)            (None, 32, 32, 16)        2320      \n",
      "_________________________________________________________________\n",
      "batch_normalization_1 (Batch (None, 32, 32, 16)        64        \n",
      "_________________________________________________________________\n",
      "max_pooling2d (MaxPooling2D) (None, 16, 16, 16)        0         \n",
      "_________________________________________________________________\n",
      "dropout (Dropout)            (None, 16, 16, 16)        0         \n",
      "_________________________________________________________________\n",
      "conv2d_2 (Conv2D)            (None, 16, 16, 32)        4640      \n",
      "_________________________________________________________________\n",
      "batch_normalization_2 (Batch (None, 16, 16, 32)        128       \n",
      "_________________________________________________________________\n",
      "conv2d_3 (Conv2D)            (None, 16, 16, 32)        9248      \n",
      "_________________________________________________________________\n",
      "batch_normalization_3 (Batch (None, 16, 16, 32)        128       \n",
      "_________________________________________________________________\n",
      "max_pooling2d_1 (MaxPooling2 (None, 8, 8, 32)          0         \n",
      "_________________________________________________________________\n",
      "dropout_1 (Dropout)          (None, 8, 8, 32)          0         \n",
      "_________________________________________________________________\n",
      "conv2d_4 (Conv2D)            (None, 8, 8, 64)          18496     \n",
      "_________________________________________________________________\n",
      "batch_normalization_4 (Batch (None, 8, 8, 64)          256       \n",
      "_________________________________________________________________\n",
      "conv2d_5 (Conv2D)            (None, 8, 8, 64)          36928     \n",
      "_________________________________________________________________\n",
      "batch_normalization_5 (Batch (None, 8, 8, 64)          256       \n",
      "_________________________________________________________________\n",
      "max_pooling2d_2 (MaxPooling2 (None, 4, 4, 64)          0         \n",
      "_________________________________________________________________\n",
      "dropout_2 (Dropout)          (None, 4, 4, 64)          0         \n",
      "_________________________________________________________________\n",
      "conv2d_6 (Conv2D)            (None, 4, 4, 128)         73856     \n",
      "_________________________________________________________________\n",
      "batch_normalization_6 (Batch (None, 4, 4, 128)         512       \n",
      "_________________________________________________________________\n",
      "conv2d_7 (Conv2D)            (None, 4, 4, 128)         147584    \n",
      "_________________________________________________________________\n",
      "batch_normalization_7 (Batch (None, 4, 4, 128)         512       \n",
      "_________________________________________________________________\n",
      "max_pooling2d_3 (MaxPooling2 (None, 2, 2, 128)         0         \n",
      "_________________________________________________________________\n",
      "dropout_3 (Dropout)          (None, 2, 2, 128)         0         \n",
      "_________________________________________________________________\n",
      "flatten (Flatten)            (None, 512)               0         \n",
      "_________________________________________________________________\n",
      "dense (Dense)                (None, 128)               65664     \n",
      "_________________________________________________________________\n",
      "dropout_4 (Dropout)          (None, 128)               0         \n",
      "_________________________________________________________________\n",
      "dense_1 (Dense)              (None, 10)                1290      \n",
      "=================================================================\n",
      "Total params: 362,394\n",
      "Trainable params: 361,434\n",
      "Non-trainable params: 960\n",
      "_________________________________________________________________\n",
      "None\n"
     ]
    }
   ],
   "source": [
    "# Set constent\n",
    "num_classes = len(label_names)  # The number of classes\n",
    "input_shape = (32, 32, 3)       # The input shape 32 * 32 pixels, 3 RGB brightness for each pixel\n",
    "\n",
    "# Construct a sequential model\n",
    "model = Sequential()\n",
    "\n",
    "# Starting add layers to the model\n",
    "# First VGG blockes\n",
    "model.add(Conv2D(16, (3, 3), padding='same', activation='relu', input_shape=input_shape))\n",
    "model.add(BatchNormalization())     # BatchNormalization after convolutional layer\n",
    "model.add(Conv2D(16, (3, 3), padding='same', activation='relu'))\n",
    "model.add(BatchNormalization())     # BatchNormalization after convolutional layer\n",
    "model.add(MaxPooling2D((2, 2)))     # MaxPooling2D to keep important features as well as shirnk info size\n",
    "model.add(Dropout(0.1))             # Drop some portion of nodes to increase generality of model\n",
    "\n",
    "# Second VGG blockes\n",
    "model.add(Conv2D(32, (3, 3), padding='same', activation='relu'))\n",
    "model.add(BatchNormalization())\n",
    "model.add(Conv2D(32, (3, 3), padding='same', activation='relu'))\n",
    "model.add(BatchNormalization())\n",
    "model.add(MaxPooling2D((2, 2)))\n",
    "model.add(Dropout(0.2))\n",
    "\n",
    "# Third VGG blockes\n",
    "model.add(Conv2D(64, (3, 3), padding='same', activation='relu'))\n",
    "model.add(BatchNormalization())\n",
    "model.add(Conv2D(64, (3, 3), padding='same', activation='relu'))\n",
    "model.add(BatchNormalization())\n",
    "model.add(MaxPooling2D((2, 2)))\n",
    "model.add(Dropout(0.3))\n",
    "\n",
    "# Fourth VGG blockes\n",
    "model.add(Conv2D(128, (3, 3), padding='same', activation='relu'))\n",
    "model.add(BatchNormalization())\n",
    "model.add(Conv2D(128, (3, 3), padding='same', activation='relu'))\n",
    "model.add(BatchNormalization())\n",
    "model.add(MaxPooling2D((2, 2)))\n",
    "model.add(Dropout(0.4))\n",
    "\n",
    "# Flat and dense layer\n",
    "model.add(Flatten())\n",
    "model.add(Dense(128, activation='relu'))\n",
    "model.add(Dropout(0.5))\n",
    "\n",
    "# Final softmax layer\n",
    "model.add(Dense(num_classes, activation='softmax'))\n",
    "\n",
    "# The optimizer gives the learning rate lr and some other parameters.\n",
    "opt = Adam(lr=0.001, beta_1=0.9, beta_2=0.999, epsilon=None, decay=0.0, amsgrad=False)\n",
    "\n",
    "# Model complie\n",
    "model.compile(loss='categorical_crossentropy',\n",
    "              optimizer=opt,\n",
    "              metrics=['accuracy'])\n",
    "\n",
    "# Print the summary of this model\n",
    "print(model.summary())\n",
    "\n",
    "# Save the trained model for continues training\n",
    "model.save('C:/Users/Yulun/Documents/Projects/cifar-10-batches-py/cifar10_batches/cifar10_classifier_1.h5', overwrite=True)"
   ]
  },
  {
   "cell_type": "markdown",
   "metadata": {
    "id": "8nh6dEzV-Dge"
   },
   "source": [
    "## Step 4: Training##\n",
    "\n",
    "- Data Augmentation: use ImageDataGenerators to generate new samples based on the given arguments. For example, flip the image, shift the image, and zoom the image. Both increase the original sample size and help model to learn common features in each class. The techniques include(all change apply randomly):\n",
    "\n",
    "> 1. Horizontal flip\n",
    "> 2. Vertical flip\n",
    "> 3. Horizontal shift\n",
    "> 4. Vertical shift\n",
    "> 5. Zoom in/out*\n",
    "> 6. Rotations*\n",
    "\n",
    "> *Adding these features made the model spend much more time to train because it increase the generalization very much. As adding first few data augmentation features already pull training accuracy and validation accuracy line very close, these features was not included by default in this project."
   ]
  },
  {
   "cell_type": "code",
   "execution_count": 4,
   "metadata": {
    "colab": {
     "base_uri": "https://localhost:8080/",
     "height": 420
    },
    "executionInfo": {
     "elapsed": 180889,
     "status": "error",
     "timestamp": 1608249310953,
     "user": {
      "displayName": "La fda",
      "photoUrl": "",
      "userId": "01629274643246055858"
     },
     "user_tz": 480
    },
    "id": "2iSlzJ1BlVLB",
    "outputId": "d6fc2ea8-398b-4c33-a606-dc74a26de397"
   },
   "outputs": [
    {
     "name": "stdout",
     "output_type": "stream",
     "text": [
      "Epoch 1/100\n",
      " 35/313 [==>...........................] - ETA: 52s - loss: 2.7762 - accuracy: 0.1440"
     ]
    },
    {
     "ename": "KeyboardInterrupt",
     "evalue": "",
     "output_type": "error",
     "traceback": [
      "\u001b[1;31m---------------------------------------------------------------------------\u001b[0m",
      "\u001b[1;31mKeyboardInterrupt\u001b[0m                         Traceback (most recent call last)",
      "\u001b[1;32m<ipython-input-4-f7b2a5854415>\u001b[0m in \u001b[0;36m<module>\u001b[1;34m\u001b[0m\n\u001b[0;32m     11\u001b[0m \u001b[1;31m#Train model\u001b[0m\u001b[1;33m\u001b[0m\u001b[1;33m\u001b[0m\u001b[1;33m\u001b[0m\u001b[0m\n\u001b[0;32m     12\u001b[0m \u001b[0mepochs\u001b[0m \u001b[1;33m=\u001b[0m \u001b[1;36m100\u001b[0m\u001b[1;33m\u001b[0m\u001b[1;33m\u001b[0m\u001b[0m\n\u001b[1;32m---> 13\u001b[1;33m history = model.fit(datagen.flow(x_training, y_training, batch_size=128),\n\u001b[0m\u001b[0;32m     14\u001b[0m                     \u001b[0mbatch_size\u001b[0m\u001b[1;33m=\u001b[0m\u001b[1;36m128\u001b[0m\u001b[1;33m,\u001b[0m\u001b[1;33m\u001b[0m\u001b[1;33m\u001b[0m\u001b[0m\n\u001b[0;32m     15\u001b[0m                     \u001b[0mepochs\u001b[0m\u001b[1;33m=\u001b[0m\u001b[0mepochs\u001b[0m\u001b[1;33m,\u001b[0m\u001b[1;33m\u001b[0m\u001b[1;33m\u001b[0m\u001b[0m\n",
      "\u001b[1;32m~\\anaconda3\\lib\\site-packages\\tensorflow\\python\\keras\\engine\\training.py\u001b[0m in \u001b[0;36mfit\u001b[1;34m(self, x, y, batch_size, epochs, verbose, callbacks, validation_split, validation_data, shuffle, class_weight, sample_weight, initial_epoch, steps_per_epoch, validation_steps, validation_batch_size, validation_freq, max_queue_size, workers, use_multiprocessing)\u001b[0m\n\u001b[0;32m   1098\u001b[0m                 _r=1):\n\u001b[0;32m   1099\u001b[0m               \u001b[0mcallbacks\u001b[0m\u001b[1;33m.\u001b[0m\u001b[0mon_train_batch_begin\u001b[0m\u001b[1;33m(\u001b[0m\u001b[0mstep\u001b[0m\u001b[1;33m)\u001b[0m\u001b[1;33m\u001b[0m\u001b[1;33m\u001b[0m\u001b[0m\n\u001b[1;32m-> 1100\u001b[1;33m               \u001b[0mtmp_logs\u001b[0m \u001b[1;33m=\u001b[0m \u001b[0mself\u001b[0m\u001b[1;33m.\u001b[0m\u001b[0mtrain_function\u001b[0m\u001b[1;33m(\u001b[0m\u001b[0miterator\u001b[0m\u001b[1;33m)\u001b[0m\u001b[1;33m\u001b[0m\u001b[1;33m\u001b[0m\u001b[0m\n\u001b[0m\u001b[0;32m   1101\u001b[0m               \u001b[1;32mif\u001b[0m \u001b[0mdata_handler\u001b[0m\u001b[1;33m.\u001b[0m\u001b[0mshould_sync\u001b[0m\u001b[1;33m:\u001b[0m\u001b[1;33m\u001b[0m\u001b[1;33m\u001b[0m\u001b[0m\n\u001b[0;32m   1102\u001b[0m                 \u001b[0mcontext\u001b[0m\u001b[1;33m.\u001b[0m\u001b[0masync_wait\u001b[0m\u001b[1;33m(\u001b[0m\u001b[1;33m)\u001b[0m\u001b[1;33m\u001b[0m\u001b[1;33m\u001b[0m\u001b[0m\n",
      "\u001b[1;32m~\\anaconda3\\lib\\site-packages\\tensorflow\\python\\eager\\def_function.py\u001b[0m in \u001b[0;36m__call__\u001b[1;34m(self, *args, **kwds)\u001b[0m\n\u001b[0;32m    826\u001b[0m     \u001b[0mtracing_count\u001b[0m \u001b[1;33m=\u001b[0m \u001b[0mself\u001b[0m\u001b[1;33m.\u001b[0m\u001b[0mexperimental_get_tracing_count\u001b[0m\u001b[1;33m(\u001b[0m\u001b[1;33m)\u001b[0m\u001b[1;33m\u001b[0m\u001b[1;33m\u001b[0m\u001b[0m\n\u001b[0;32m    827\u001b[0m     \u001b[1;32mwith\u001b[0m \u001b[0mtrace\u001b[0m\u001b[1;33m.\u001b[0m\u001b[0mTrace\u001b[0m\u001b[1;33m(\u001b[0m\u001b[0mself\u001b[0m\u001b[1;33m.\u001b[0m\u001b[0m_name\u001b[0m\u001b[1;33m)\u001b[0m \u001b[1;32mas\u001b[0m \u001b[0mtm\u001b[0m\u001b[1;33m:\u001b[0m\u001b[1;33m\u001b[0m\u001b[1;33m\u001b[0m\u001b[0m\n\u001b[1;32m--> 828\u001b[1;33m       \u001b[0mresult\u001b[0m \u001b[1;33m=\u001b[0m \u001b[0mself\u001b[0m\u001b[1;33m.\u001b[0m\u001b[0m_call\u001b[0m\u001b[1;33m(\u001b[0m\u001b[1;33m*\u001b[0m\u001b[0margs\u001b[0m\u001b[1;33m,\u001b[0m \u001b[1;33m**\u001b[0m\u001b[0mkwds\u001b[0m\u001b[1;33m)\u001b[0m\u001b[1;33m\u001b[0m\u001b[1;33m\u001b[0m\u001b[0m\n\u001b[0m\u001b[0;32m    829\u001b[0m       \u001b[0mcompiler\u001b[0m \u001b[1;33m=\u001b[0m \u001b[1;34m\"xla\"\u001b[0m \u001b[1;32mif\u001b[0m \u001b[0mself\u001b[0m\u001b[1;33m.\u001b[0m\u001b[0m_experimental_compile\u001b[0m \u001b[1;32melse\u001b[0m \u001b[1;34m\"nonXla\"\u001b[0m\u001b[1;33m\u001b[0m\u001b[1;33m\u001b[0m\u001b[0m\n\u001b[0;32m    830\u001b[0m       \u001b[0mnew_tracing_count\u001b[0m \u001b[1;33m=\u001b[0m \u001b[0mself\u001b[0m\u001b[1;33m.\u001b[0m\u001b[0mexperimental_get_tracing_count\u001b[0m\u001b[1;33m(\u001b[0m\u001b[1;33m)\u001b[0m\u001b[1;33m\u001b[0m\u001b[1;33m\u001b[0m\u001b[0m\n",
      "\u001b[1;32m~\\anaconda3\\lib\\site-packages\\tensorflow\\python\\eager\\def_function.py\u001b[0m in \u001b[0;36m_call\u001b[1;34m(self, *args, **kwds)\u001b[0m\n\u001b[0;32m    853\u001b[0m       \u001b[1;31m# In this case we have created variables on the first call, so we run the\u001b[0m\u001b[1;33m\u001b[0m\u001b[1;33m\u001b[0m\u001b[1;33m\u001b[0m\u001b[0m\n\u001b[0;32m    854\u001b[0m       \u001b[1;31m# defunned version which is guaranteed to never create variables.\u001b[0m\u001b[1;33m\u001b[0m\u001b[1;33m\u001b[0m\u001b[1;33m\u001b[0m\u001b[0m\n\u001b[1;32m--> 855\u001b[1;33m       \u001b[1;32mreturn\u001b[0m \u001b[0mself\u001b[0m\u001b[1;33m.\u001b[0m\u001b[0m_stateless_fn\u001b[0m\u001b[1;33m(\u001b[0m\u001b[1;33m*\u001b[0m\u001b[0margs\u001b[0m\u001b[1;33m,\u001b[0m \u001b[1;33m**\u001b[0m\u001b[0mkwds\u001b[0m\u001b[1;33m)\u001b[0m  \u001b[1;31m# pylint: disable=not-callable\u001b[0m\u001b[1;33m\u001b[0m\u001b[1;33m\u001b[0m\u001b[0m\n\u001b[0m\u001b[0;32m    856\u001b[0m     \u001b[1;32melif\u001b[0m \u001b[0mself\u001b[0m\u001b[1;33m.\u001b[0m\u001b[0m_stateful_fn\u001b[0m \u001b[1;32mis\u001b[0m \u001b[1;32mnot\u001b[0m \u001b[1;32mNone\u001b[0m\u001b[1;33m:\u001b[0m\u001b[1;33m\u001b[0m\u001b[1;33m\u001b[0m\u001b[0m\n\u001b[0;32m    857\u001b[0m       \u001b[1;31m# Release the lock early so that multiple threads can perform the call\u001b[0m\u001b[1;33m\u001b[0m\u001b[1;33m\u001b[0m\u001b[1;33m\u001b[0m\u001b[0m\n",
      "\u001b[1;32m~\\anaconda3\\lib\\site-packages\\tensorflow\\python\\eager\\function.py\u001b[0m in \u001b[0;36m__call__\u001b[1;34m(self, *args, **kwargs)\u001b[0m\n\u001b[0;32m   2940\u001b[0m       (graph_function,\n\u001b[0;32m   2941\u001b[0m        filtered_flat_args) = self._maybe_define_function(args, kwargs)\n\u001b[1;32m-> 2942\u001b[1;33m     return graph_function._call_flat(\n\u001b[0m\u001b[0;32m   2943\u001b[0m         filtered_flat_args, captured_inputs=graph_function.captured_inputs)  # pylint: disable=protected-access\n\u001b[0;32m   2944\u001b[0m \u001b[1;33m\u001b[0m\u001b[0m\n",
      "\u001b[1;32m~\\anaconda3\\lib\\site-packages\\tensorflow\\python\\eager\\function.py\u001b[0m in \u001b[0;36m_call_flat\u001b[1;34m(self, args, captured_inputs, cancellation_manager)\u001b[0m\n\u001b[0;32m   1916\u001b[0m         and executing_eagerly):\n\u001b[0;32m   1917\u001b[0m       \u001b[1;31m# No tape is watching; skip to running the function.\u001b[0m\u001b[1;33m\u001b[0m\u001b[1;33m\u001b[0m\u001b[1;33m\u001b[0m\u001b[0m\n\u001b[1;32m-> 1918\u001b[1;33m       return self._build_call_outputs(self._inference_function.call(\n\u001b[0m\u001b[0;32m   1919\u001b[0m           ctx, args, cancellation_manager=cancellation_manager))\n\u001b[0;32m   1920\u001b[0m     forward_backward = self._select_forward_and_backward_functions(\n",
      "\u001b[1;32m~\\anaconda3\\lib\\site-packages\\tensorflow\\python\\eager\\function.py\u001b[0m in \u001b[0;36mcall\u001b[1;34m(self, ctx, args, cancellation_manager)\u001b[0m\n\u001b[0;32m    553\u001b[0m       \u001b[1;32mwith\u001b[0m \u001b[0m_InterpolateFunctionError\u001b[0m\u001b[1;33m(\u001b[0m\u001b[0mself\u001b[0m\u001b[1;33m)\u001b[0m\u001b[1;33m:\u001b[0m\u001b[1;33m\u001b[0m\u001b[1;33m\u001b[0m\u001b[0m\n\u001b[0;32m    554\u001b[0m         \u001b[1;32mif\u001b[0m \u001b[0mcancellation_manager\u001b[0m \u001b[1;32mis\u001b[0m \u001b[1;32mNone\u001b[0m\u001b[1;33m:\u001b[0m\u001b[1;33m\u001b[0m\u001b[1;33m\u001b[0m\u001b[0m\n\u001b[1;32m--> 555\u001b[1;33m           outputs = execute.execute(\n\u001b[0m\u001b[0;32m    556\u001b[0m               \u001b[0mstr\u001b[0m\u001b[1;33m(\u001b[0m\u001b[0mself\u001b[0m\u001b[1;33m.\u001b[0m\u001b[0msignature\u001b[0m\u001b[1;33m.\u001b[0m\u001b[0mname\u001b[0m\u001b[1;33m)\u001b[0m\u001b[1;33m,\u001b[0m\u001b[1;33m\u001b[0m\u001b[1;33m\u001b[0m\u001b[0m\n\u001b[0;32m    557\u001b[0m               \u001b[0mnum_outputs\u001b[0m\u001b[1;33m=\u001b[0m\u001b[0mself\u001b[0m\u001b[1;33m.\u001b[0m\u001b[0m_num_outputs\u001b[0m\u001b[1;33m,\u001b[0m\u001b[1;33m\u001b[0m\u001b[1;33m\u001b[0m\u001b[0m\n",
      "\u001b[1;32m~\\anaconda3\\lib\\site-packages\\tensorflow\\python\\eager\\execute.py\u001b[0m in \u001b[0;36mquick_execute\u001b[1;34m(op_name, num_outputs, inputs, attrs, ctx, name)\u001b[0m\n\u001b[0;32m     57\u001b[0m   \u001b[1;32mtry\u001b[0m\u001b[1;33m:\u001b[0m\u001b[1;33m\u001b[0m\u001b[1;33m\u001b[0m\u001b[0m\n\u001b[0;32m     58\u001b[0m     \u001b[0mctx\u001b[0m\u001b[1;33m.\u001b[0m\u001b[0mensure_initialized\u001b[0m\u001b[1;33m(\u001b[0m\u001b[1;33m)\u001b[0m\u001b[1;33m\u001b[0m\u001b[1;33m\u001b[0m\u001b[0m\n\u001b[1;32m---> 59\u001b[1;33m     tensors = pywrap_tfe.TFE_Py_Execute(ctx._handle, device_name, op_name,\n\u001b[0m\u001b[0;32m     60\u001b[0m                                         inputs, attrs, num_outputs)\n\u001b[0;32m     61\u001b[0m   \u001b[1;32mexcept\u001b[0m \u001b[0mcore\u001b[0m\u001b[1;33m.\u001b[0m\u001b[0m_NotOkStatusException\u001b[0m \u001b[1;32mas\u001b[0m \u001b[0me\u001b[0m\u001b[1;33m:\u001b[0m\u001b[1;33m\u001b[0m\u001b[1;33m\u001b[0m\u001b[0m\n",
      "\u001b[1;31mKeyboardInterrupt\u001b[0m: "
     ]
    }
   ],
   "source": [
    "# To pick up from where I left off\n",
    "model = load_model('C:/Users/Yulun/Documents/Projects/cifar-10-batches-py/cifar10_batches/cifar10_classifier_1.h5')\n",
    "\n",
    "# create data generator\n",
    "datagen = ImageDataGenerator(horizontal_flip=True,\n",
    "                             vertical_flip=False,\n",
    "                             width_shift_range=0.1,\n",
    "                             height_shift_range=0.1)\n",
    "\n",
    "\n",
    "#Train model\n",
    "epochs = 100\n",
    "history = model.fit(datagen.flow(x_training, y_training, batch_size=128),\n",
    "                    batch_size=128,\n",
    "                    epochs=epochs,\n",
    "                    validation_data=(x_validate, y_validate),\n",
    "                    verbose=1,\n",
    "                    shuffle=True)\n",
    "\n",
    "# Save the trained model for continues training\n",
    "model.save('C:/Users/Yulun/Documents/Projects/cifar-10-batches-py/cifar10_batches/cifar10_classifier_1.h5', overwrite=True)"
   ]
  },
  {
   "cell_type": "markdown",
   "metadata": {
    "id": "JVB9iX24-cc-"
   },
   "source": [
    "## Step 5: Training Analysis##\n",
    "Plot the graph of accuracy change of both training set and validation set as epochs goes on.\n",
    "\n",
    "With first 500 epochs of training, we can see there is no big gap between training and validation accuracy curve. And both of the accuracy is growing."
   ]
  },
  {
   "cell_type": "code",
   "execution_count": 48,
   "metadata": {
    "colab": {
     "base_uri": "https://localhost:8080/",
     "height": 295
    },
    "executionInfo": {
     "elapsed": 616,
     "status": "ok",
     "timestamp": 1608248585426,
     "user": {
      "displayName": "La fda",
      "photoUrl": "",
      "userId": "01629274643246055858"
     },
     "user_tz": 480
    },
    "id": "pdKiEZiU-beV",
    "outputId": "5b0f13c9-5995-408a-af4c-f30608f91d58"
   },
   "outputs": [
    {
     "data": {
      "image/png": "[encoded data removed]",
      "text/plain": [
       "<Figure size 432x288 with 1 Axes>"
      ]
     },
     "metadata": {
      "needs_background": "light",
      "tags": []
     },
     "output_type": "display_data"
    }
   ],
   "source": [
    "# Gather information of two groups\n",
    "loss_train = history.history['accuracy']\n",
    "loss_val = history.history['val_accuracy']\n",
    "\n",
    "# Generate lines for both group\n",
    "plt.plot(range(0, epochs), loss_train, 'g', label='Training accuracy')\n",
    "plt.plot(range(0, epochs), loss_val, 'b', label='validation accuracy')\n",
    "\n",
    "# Manually set the y limit\n",
    "#plt.ylim([0.5, 1])\n",
    "\n",
    "# Setting the title and other words info\n",
    "plt.title('Training and Validation accuracy')\n",
    "plt.xlabel('Epochs')\n",
    "plt.ylabel('Accuracy')\n",
    "plt.legend()\n",
    "\n",
    "# Print\n",
    "plt.show()"
   ]
  },
  {
   "cell_type": "markdown",
   "metadata": {
    "id": "Xq7QZ0DX-uF_"
   },
   "source": [
    "## Step 6: Performance##\n",
    "Run the CNN model on final test set and evaluate. Test set should only run **ONCE** at the end of the project and no changes should be made to maximizing the perfomance on the test set. This is the real case simulation!"
   ]
  },
  {
   "cell_type": "code",
   "execution_count": 46,
   "metadata": {
    "colab": {
     "base_uri": "https://localhost:8080/",
     "height": 710
    },
    "executionInfo": {
     "elapsed": 6997,
     "status": "ok",
     "timestamp": 1608248553426,
     "user": {
      "displayName": "La fda",
      "photoUrl": "",
      "userId": "01629274643246055858"
     },
     "user_tz": 480
    },
    "id": "UXsxzos9-x9U",
    "outputId": "92969720-ce7d-4f68-8abb-21fdfb20433d"
   },
   "outputs": [
    {
     "name": "stdout",
     "output_type": "stream",
     "text": [
      "313/313 [==============================] - 1s 3ms/step - loss: 0.4484 - accuracy: 0.8599\n",
      "[0.44843217730522156, 0.8598999977111816]\n"
     ]
    },
    {
     "data": {
      "text/html": [
       "<div>\n",
       "<style scoped>\n",
       "    .dataframe tbody tr th:only-of-type {\n",
       "        vertical-align: middle;\n",
       "    }\n",
       "\n",
       "    .dataframe tbody tr th {\n",
       "        vertical-align: top;\n",
       "    }\n",
       "\n",
       "    .dataframe thead th {\n",
       "        text-align: right;\n",
       "    }\n",
       "</style>\n",
       "<table border=\"1\" class=\"dataframe\">\n",
       "  <thead>\n",
       "    <tr style=\"text-align: right;\">\n",
       "      <th></th>\n",
       "      <th>true:airplane</th>\n",
       "      <th>true:automobile</th>\n",
       "      <th>true:bird</th>\n",
       "      <th>true:cat</th>\n",
       "      <th>true:deer</th>\n",
       "      <th>true:dog</th>\n",
       "      <th>true:frog</th>\n",
       "      <th>true:horse</th>\n",
       "      <th>true:ship</th>\n",
       "      <th>true:truck</th>\n",
       "    </tr>\n",
       "  </thead>\n",
       "  <tbody>\n",
       "    <tr>\n",
       "      <th>pred:airplane</th>\n",
       "      <td>891</td>\n",
       "      <td>6</td>\n",
       "      <td>36</td>\n",
       "      <td>16</td>\n",
       "      <td>6</td>\n",
       "      <td>5</td>\n",
       "      <td>3</td>\n",
       "      <td>10</td>\n",
       "      <td>46</td>\n",
       "      <td>8</td>\n",
       "    </tr>\n",
       "    <tr>\n",
       "      <th>pred:automobile</th>\n",
       "      <td>13</td>\n",
       "      <td>957</td>\n",
       "      <td>0</td>\n",
       "      <td>4</td>\n",
       "      <td>1</td>\n",
       "      <td>3</td>\n",
       "      <td>1</td>\n",
       "      <td>1</td>\n",
       "      <td>19</td>\n",
       "      <td>43</td>\n",
       "    </tr>\n",
       "    <tr>\n",
       "      <th>pred:bird</th>\n",
       "      <td>20</td>\n",
       "      <td>0</td>\n",
       "      <td>792</td>\n",
       "      <td>53</td>\n",
       "      <td>30</td>\n",
       "      <td>24</td>\n",
       "      <td>11</td>\n",
       "      <td>10</td>\n",
       "      <td>4</td>\n",
       "      <td>3</td>\n",
       "    </tr>\n",
       "    <tr>\n",
       "      <th>pred:cat</th>\n",
       "      <td>5</td>\n",
       "      <td>1</td>\n",
       "      <td>19</td>\n",
       "      <td>657</td>\n",
       "      <td>20</td>\n",
       "      <td>91</td>\n",
       "      <td>12</td>\n",
       "      <td>10</td>\n",
       "      <td>2</td>\n",
       "      <td>1</td>\n",
       "    </tr>\n",
       "    <tr>\n",
       "      <th>pred:deer</th>\n",
       "      <td>6</td>\n",
       "      <td>1</td>\n",
       "      <td>30</td>\n",
       "      <td>39</td>\n",
       "      <td>824</td>\n",
       "      <td>27</td>\n",
       "      <td>6</td>\n",
       "      <td>24</td>\n",
       "      <td>4</td>\n",
       "      <td>0</td>\n",
       "    </tr>\n",
       "    <tr>\n",
       "      <th>pred:dog</th>\n",
       "      <td>2</td>\n",
       "      <td>0</td>\n",
       "      <td>27</td>\n",
       "      <td>95</td>\n",
       "      <td>9</td>\n",
       "      <td>764</td>\n",
       "      <td>3</td>\n",
       "      <td>10</td>\n",
       "      <td>1</td>\n",
       "      <td>1</td>\n",
       "    </tr>\n",
       "    <tr>\n",
       "      <th>pred:frog</th>\n",
       "      <td>7</td>\n",
       "      <td>1</td>\n",
       "      <td>70</td>\n",
       "      <td>102</td>\n",
       "      <td>69</td>\n",
       "      <td>45</td>\n",
       "      <td>960</td>\n",
       "      <td>8</td>\n",
       "      <td>7</td>\n",
       "      <td>6</td>\n",
       "    </tr>\n",
       "    <tr>\n",
       "      <th>pred:horse</th>\n",
       "      <td>12</td>\n",
       "      <td>1</td>\n",
       "      <td>19</td>\n",
       "      <td>18</td>\n",
       "      <td>39</td>\n",
       "      <td>38</td>\n",
       "      <td>3</td>\n",
       "      <td>926</td>\n",
       "      <td>4</td>\n",
       "      <td>0</td>\n",
       "    </tr>\n",
       "    <tr>\n",
       "      <th>pred:ship</th>\n",
       "      <td>23</td>\n",
       "      <td>4</td>\n",
       "      <td>5</td>\n",
       "      <td>6</td>\n",
       "      <td>1</td>\n",
       "      <td>1</td>\n",
       "      <td>1</td>\n",
       "      <td>0</td>\n",
       "      <td>898</td>\n",
       "      <td>8</td>\n",
       "    </tr>\n",
       "    <tr>\n",
       "      <th>pred:truck</th>\n",
       "      <td>21</td>\n",
       "      <td>29</td>\n",
       "      <td>2</td>\n",
       "      <td>10</td>\n",
       "      <td>1</td>\n",
       "      <td>2</td>\n",
       "      <td>0</td>\n",
       "      <td>1</td>\n",
       "      <td>15</td>\n",
       "      <td>930</td>\n",
       "    </tr>\n",
       "  </tbody>\n",
       "</table>\n",
       "</div>"
      ],
      "text/plain": [
       "                 true:airplane  true:automobile  ...  true:ship  true:truck\n",
       "pred:airplane              891                6  ...         46           8\n",
       "pred:automobile             13              957  ...         19          43\n",
       "pred:bird                   20                0  ...          4           3\n",
       "pred:cat                     5                1  ...          2           1\n",
       "pred:deer                    6                1  ...          4           0\n",
       "pred:dog                     2                0  ...          1           1\n",
       "pred:frog                    7                1  ...          7           6\n",
       "pred:horse                  12                1  ...          4           0\n",
       "pred:ship                   23                4  ...        898           8\n",
       "pred:truck                  21               29  ...         15         930\n",
       "\n",
       "[10 rows x 10 columns]"
      ]
     },
     "metadata": {
      "tags": []
     },
     "output_type": "display_data"
    },
    {
     "name": "stdout",
     "output_type": "stream",
     "text": [
      "Classification Report\n",
      "              precision    recall  f1-score   support\n",
      "\n",
      "    airplane       0.87      0.89      0.88      1000\n",
      "  automobile       0.92      0.96      0.94      1000\n",
      "        bird       0.84      0.79      0.81      1000\n",
      "         cat       0.80      0.66      0.72      1000\n",
      "        deer       0.86      0.82      0.84      1000\n",
      "         dog       0.84      0.76      0.80      1000\n",
      "        frog       0.75      0.96      0.84      1000\n",
      "       horse       0.87      0.93      0.90      1000\n",
      "        ship       0.95      0.90      0.92      1000\n",
      "       truck       0.92      0.93      0.92      1000\n",
      "\n",
      "    accuracy                           0.86     10000\n",
      "   macro avg       0.86      0.86      0.86     10000\n",
      "weighted avg       0.86      0.86      0.86     10000\n",
      "\n"
     ]
    }
   ],
   "source": [
    "def get_class_from_softmax(softmax_list):\n",
    "    \"\"\"Get the index of the highest value in given softmax list\"\"\"\n",
    "    max_value = 0.0     # Note the max probalility until present\n",
    "    max_index = 0       # Note the max probability's index until present\n",
    "    for i in range(len(softmax_list)):\n",
    "        if softmax_list[i] > max_value:\n",
    "            max_value = softmax_list[i]\n",
    "            max_index = i\n",
    "    return max_index    # return the max_index\n",
    "\n",
    "# Load the model from directory because we saved the model after building and training\n",
    "model = load_model('/content/drive/MyDrive/Colab Notebooks/cifar-10-batches-py/cifar10_classifier_1.h5')\n",
    "\n",
    "# Run model on test set\n",
    "print(model.evaluate(x=x_test, y=y_test))\n",
    "\n",
    "# Use two lists to note the pred vs. real\n",
    "y_hat_label = list()\n",
    "y_label = list()\n",
    "\n",
    "# y_hat is the predicted value on test set x's, but only max_index\n",
    "y_hat = model.predict(x_test)\n",
    "\n",
    "# Convert max_index to class name and append that into there correspond list\n",
    "for i in range(len(y_hat)):\n",
    "    y_hat_label.append(label_names[get_class_from_softmax(y_hat[i])])\n",
    "    y_label.append(label_names[get_class_from_softmax(y_test[i])])\n",
    "\n",
    "# Generate a confusion matrix with index names\n",
    "confusion_mtx = pd.DataFrame(\n",
    "    confusion_matrix(y_hat_label, y_label, labels=label_names), \n",
    "    index=['pred:airplane', 'pred:automobile', 'pred:bird', 'pred:cat', 'pred:deer', 'pred:dog', 'pred:frog', 'pred:horse', 'pred:ship', 'pred:truck'], \n",
    "    columns=['true:airplane', 'true:automobile', 'true:bird', 'true:cat', 'true:deer', 'true:dog', 'true:frog', 'true:horse', 'true:ship', 'true:truck']\n",
    ")\n",
    "\n",
    "# Display confusion matrix and score report\n",
    "display(confusion_mtx)\n",
    "print('Classification Report')\n",
    "print(classification_report(y_label, y_hat_label, target_names=label_names))"
   ]
  }
 ],
 "metadata": {
  "accelerator": "GPU",
  "colab": {
   "authorship_tag": "ABX9TyMqBDAVS5beqIxrv13vvZZU",
   "collapsed_sections": [],
   "mount_file_id": "1p8BIorv088NNh-PoHbhYGlTsegyIZ-3o",
   "name": "cifar10_classifier.ipynb",
   "provenance": [],
   "toc_visible": true
  },
  "kernelspec": {
   "display_name": "Python 3",
   "language": "python",
   "name": "python3"
  },
  "language_info": {
   "codemirror_mode": {
    "name": "ipython",
    "version": 3
   },
   "file_extension": ".py",
   "mimetype": "text/x-python",
   "name": "python",
   "nbconvert_exporter": "python",
   "pygments_lexer": "ipython3",
   "version": "3.8.3"
  }
 },
 "nbformat": 4,
 "nbformat_minor": 1
}
